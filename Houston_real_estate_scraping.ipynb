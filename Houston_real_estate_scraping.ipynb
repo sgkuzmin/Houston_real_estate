{
 "cells": [
  {
   "cell_type": "code",
   "execution_count": 97,
   "id": "524c524a",
   "metadata": {},
   "outputs": [],
   "source": [
    "from bs4 import BeautifulSoup as bs\n",
    "from splinter import Browser\n",
    "from webdriver_manager.chrome import ChromeDriverManager\n",
    "import pandas as pd\n",
    "import re"
   ]
  },
  {
   "cell_type": "code",
   "execution_count": 2,
   "id": "87463787",
   "metadata": {},
   "outputs": [
    {
     "name": "stderr",
     "output_type": "stream",
     "text": [
      "\n",
      "\n",
      "====== WebDriver manager ======\n",
      "Current google-chrome version is 94.0.4606\n",
      "Get LATEST driver version for 94.0.4606\n",
      "Get LATEST driver version for 94.0.4606\n",
      "Trying to download new driver from https://chromedriver.storage.googleapis.com/94.0.4606.61/chromedriver_win32.zip\n",
      "Driver has been saved in cache [C:\\Users\\sgkuz\\.wdm\\drivers\\chromedriver\\win32\\94.0.4606.61]\n"
     ]
    }
   ],
   "source": [
    "executable_path = {'executable_path': ChromeDriverManager().install()}\n",
    "browser = Browser('chrome', **executable_path, headless=False)"
   ]
  },
  {
   "cell_type": "code",
   "execution_count": 3,
   "id": "322105e2",
   "metadata": {},
   "outputs": [],
   "source": [
    "url='https://www.har.com/zipcode_77401/realestate/for_sale?'"
   ]
  },
  {
   "cell_type": "code",
   "execution_count": 4,
   "id": "8a3f33ac",
   "metadata": {},
   "outputs": [],
   "source": [
    "browser.visit(url)"
   ]
  },
  {
   "cell_type": "code",
   "execution_count": 5,
   "id": "9cd71478",
   "metadata": {},
   "outputs": [],
   "source": [
    "html = browser.html\n",
    "soup = bs(html, 'html.parser')"
   ]
  },
  {
   "cell_type": "code",
   "execution_count": 21,
   "id": "958364e4",
   "metadata": {},
   "outputs": [],
   "source": [
    "#Scrape the houses for the current search page\n",
    "houses=soup.find_all('div', class_=\"prop_item\")"
   ]
  },
  {
   "cell_type": "code",
   "execution_count": 32,
   "id": "b0c368b2",
   "metadata": {},
   "outputs": [],
   "source": [
    "price_string=houses[0].find('div', class_=\"price\").text\n",
    "price=int(price_string.replace(' ', '').replace('$','').replace(',',''))\n",
    "addr=houses[0].find('a', class_=\"address\").text"
   ]
  },
  {
   "cell_type": "code",
   "execution_count": 107,
   "id": "3b4a54c0",
   "metadata": {},
   "outputs": [],
   "source": [
    "def fix_num(num):\n",
    "    return float(re.sub('[^0-9\\.]', \"\", num))"
   ]
  },
  {
   "cell_type": "code",
   "execution_count": 108,
   "id": "70aeaa00",
   "metadata": {},
   "outputs": [],
   "source": [
    "import time \n",
    "time.sleep(10)"
   ]
  },
  {
   "cell_type": "code",
   "execution_count": 109,
   "id": "6f351f26",
   "metadata": {},
   "outputs": [],
   "source": [
    "price_string=fix_num(houses[0].find('div', class_=\"price\").text)"
   ]
  },
  {
   "cell_type": "code",
   "execution_count": 106,
   "id": "bdbd0b39",
   "metadata": {},
   "outputs": [],
   "source": []
  },
  {
   "cell_type": "code",
   "execution_count": 83,
   "id": "300fea05",
   "metadata": {},
   "outputs": [
    {
     "data": {
      "text/plain": [
       "<div class=\"mp_features\">\n",
       "<div class=\"mpf_item show_resp\"><span class=\"bold\">5</span> Bed(s)</div>\n",
       "<div class=\"mpf_item show_resp\"><span class=\"dote\">.</span><span class=\"bold\">4</span> Full &amp; <span class=\"bold\">1</span> Half Bath(s)</div>\n",
       "<div class=\"mpf_item show_resp\"><span class=\"dote\">.</span><span class=\"bold\">2</span> Stories</div>\n",
       "<div class=\"mpf_item show_resp\"><span class=\"dote\">.</span><span class=\"bold\">5,497</span> Building Sqft.</div>\n",
       "<div class=\"mpf_item\"><span class=\"bold\">3</span> Garage(s) / Attached<br/></div>\n",
       "<div class=\"mpf_item\"><span class=\"bold\">20,475</span> Lot Sqft.</div>\n",
       "<div class=\"mpf_item\">Built in <span class=\"bold\">1991</span></div>\n",
       "<div class=\"mpf_item\"> Has Private Pool</div>\n",
       "<div class=\"clearfix\"></div>\n",
       "</div>"
      ]
     },
     "execution_count": 83,
     "metadata": {},
     "output_type": "execute_result"
    }
   ],
   "source": [
    "houses[0].find('div', class_=\"mp_features\")"
   ]
  },
  {
   "cell_type": "code",
   "execution_count": 86,
   "id": "0ff017b2",
   "metadata": {},
   "outputs": [],
   "source": [
    "\n",
    "battern = re.compile(r'Building Sqft')"
   ]
  },
  {
   "cell_type": "code",
   "execution_count": 110,
   "id": "5a93e5d5",
   "metadata": {},
   "outputs": [
    {
     "data": {
      "text/plain": [
       "5497.0"
      ]
     },
     "execution_count": 110,
     "metadata": {},
     "output_type": "execute_result"
    }
   ],
   "source": [
    "fix_num(houses[0].find('div', class_=\"mp_features\").find(text=battern).__dict__[\"previous_sibling\"].text)"
   ]
  },
  {
   "cell_type": "code",
   "execution_count": 82,
   "id": "ac153a9c",
   "metadata": {},
   "outputs": [
    {
     "data": {
      "text/plain": [
       "<span class=\"bold\">5,497</span>"
      ]
     },
     "execution_count": 82,
     "metadata": {},
     "output_type": "execute_result"
    }
   ],
   "source": [
    "houses[0].find('div', class_=\"mp_features\").find_all(\"span\", class_=\"bold\")"
   ]
  },
  {
   "cell_type": "code",
   "execution_count": 80,
   "id": "43b62a34",
   "metadata": {},
   "outputs": [
    {
     "data": {
      "text/plain": [
       "[<div class=\"mpf_item show_resp\"><span class=\"bold\">5</span> Bed(s)</div>,\n",
       " <div class=\"mpf_item show_resp\"><span class=\"dote\">.</span><span class=\"bold\">4</span> Full &amp; <span class=\"bold\">1</span> Half Bath(s)</div>,\n",
       " <div class=\"mpf_item show_resp\"><span class=\"dote\">.</span><span class=\"bold\">2</span> Stories</div>,\n",
       " <div class=\"mpf_item show_resp\"><span class=\"dote\">.</span><span class=\"bold\">5,497</span> Building Sqft.</div>]"
      ]
     },
     "execution_count": 80,
     "metadata": {},
     "output_type": "execute_result"
    }
   ],
   "source": [
    "houses[0].find_all('div', class_=\"mpf_item show_resp\",)."
   ]
  },
  {
   "cell_type": "code",
   "execution_count": null,
   "id": "4d92d422",
   "metadata": {},
   "outputs": [],
   "source": []
  }
 ],
 "metadata": {
  "kernelspec": {
   "display_name": "Python 3",
   "language": "python",
   "name": "python3"
  },
  "language_info": {
   "codemirror_mode": {
    "name": "ipython",
    "version": 3
   },
   "file_extension": ".py",
   "mimetype": "text/x-python",
   "name": "python",
   "nbconvert_exporter": "python",
   "pygments_lexer": "ipython3",
   "version": "3.8.8"
  }
 },
 "nbformat": 4,
 "nbformat_minor": 5
}
