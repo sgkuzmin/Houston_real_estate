{
 "cells": [
  {
   "cell_type": "code",
   "execution_count": 97,
   "id": "c7c0f77e",
   "metadata": {},
   "outputs": [],
   "source": [
    "from bs4 import BeautifulSoup as bs\n",
    "from splinter import Browser\n",
    "from webdriver_manager.chrome import ChromeDriverManager\n",
    "import pandas as pd\n",
    "import re\n",
    "import time "
   ]
  },
  {
   "cell_type": "code",
   "execution_count": 115,
   "id": "1c9dee4e",
   "metadata": {},
   "outputs": [],
   "source": [
    "def fix_num(num):\n",
    "    return float(re.sub('[^0-9\\.]', \"\", num))\n",
    "\n",
    "def fix_num_int(num):\n",
    "    return int(re.sub('[^0-9\\.]', \"\", num))"
   ]
  },
  {
   "cell_type": "code",
   "execution_count": 2,
   "id": "f7a4188c",
   "metadata": {},
   "outputs": [
    {
     "name": "stderr",
     "output_type": "stream",
     "text": [
      "\n",
      "\n",
      "====== WebDriver manager ======\n",
      "Current google-chrome version is 94.0.4606\n",
      "Get LATEST driver version for 94.0.4606\n",
      "Get LATEST driver version for 94.0.4606\n",
      "Trying to download new driver from https://chromedriver.storage.googleapis.com/94.0.4606.61/chromedriver_win32.zip\n",
      "Driver has been saved in cache [C:\\Users\\sgkuz\\.wdm\\drivers\\chromedriver\\win32\\94.0.4606.61]\n"
     ]
    }
   ],
   "source": [
    "executable_path = {'executable_path': ChromeDriverManager().install()}\n",
    "browser = Browser('chrome', **executable_path, headless=False)"
   ]
  },
  {
   "cell_type": "code",
   "execution_count": 3,
   "id": "3e351b05",
   "metadata": {},
   "outputs": [],
   "source": [
    "url='https://www.har.com/zipcode_77401/realestate/for_sale?'"
   ]
  },
  {
   "cell_type": "code",
   "execution_count": 120,
   "id": "c8867a3d",
   "metadata": {},
   "outputs": [],
   "source": [
    "har_df = pd.DataFrame(columns = ['mls', 'address', 'bld_sft','lot_sft','price', 'zip'])"
   ]
  },
  {
   "cell_type": "code",
   "execution_count": 4,
   "id": "ff3b2e92",
   "metadata": {},
   "outputs": [],
   "source": [
    "browser.visit(url)"
   ]
  },
  {
   "cell_type": "code",
   "execution_count": 5,
   "id": "350401c0",
   "metadata": {},
   "outputs": [],
   "source": [
    "html = browser.html\n",
    "soup = bs(html, 'html.parser')"
   ]
  },
  {
   "cell_type": "code",
   "execution_count": 21,
   "id": "713e3f79",
   "metadata": {},
   "outputs": [],
   "source": [
    "#Scrape the houses for the current search page\n",
    "houses=soup.find_all('div', class_=\"prop_item\")"
   ]
  },
  {
   "cell_type": "code",
   "execution_count": 121,
   "id": "fabe62c1",
   "metadata": {},
   "outputs": [],
   "source": [
    "current_zip='77401'\n",
    "bldgsft_pattern = re.compile(r'Building Sqft')\n",
    "lotsft_pattern = re.compile(r'Lot Sqft')\n",
    "for house in houses:\n",
    "    asking_price=fix_num(house.find('div', class_=\"price\").text)\n",
    "    bldg_sft=fix_num(house.find('div', class_=\"mp_features\").find(text=bldgsft_pattern).__dict__[\"previous_sibling\"].text)\n",
    "    lot_sft=fix_num(house.find('div', class_=\"mp_features\").find(text=lotsft_pattern).__dict__[\"previous_sibling\"].text)\n",
    "    addr=house.find('a', class_=\"address\").text\n",
    "    mls_no=fix_num_int(house.find('div', class_=\"mpi_mls\").text)\n",
    "    property_zip=current_zip\n",
    "    har_df = har_df.append({'mls' : mls_no, 'address' : addr, 'bld_sft' : bldg_sft, 'lot_sft': lot_sft, 'price': asking_price, 'zip': current_zip }, ignore_index = True)\n",
    "    "
   ]
  },
  {
   "cell_type": "code",
   "execution_count": 123,
   "id": "522d6048",
   "metadata": {},
   "outputs": [
    {
     "data": {
      "text/html": [
       "<div>\n",
       "<style scoped>\n",
       "    .dataframe tbody tr th:only-of-type {\n",
       "        vertical-align: middle;\n",
       "    }\n",
       "\n",
       "    .dataframe tbody tr th {\n",
       "        vertical-align: top;\n",
       "    }\n",
       "\n",
       "    .dataframe thead th {\n",
       "        text-align: right;\n",
       "    }\n",
       "</style>\n",
       "<table border=\"1\" class=\"dataframe\">\n",
       "  <thead>\n",
       "    <tr style=\"text-align: right;\">\n",
       "      <th></th>\n",
       "      <th>mls</th>\n",
       "      <th>address</th>\n",
       "      <th>bld_sft</th>\n",
       "      <th>lot_sft</th>\n",
       "      <th>price</th>\n",
       "      <th>zip</th>\n",
       "    </tr>\n",
       "  </thead>\n",
       "  <tbody>\n",
       "    <tr>\n",
       "      <th>0</th>\n",
       "      <td>62981339</td>\n",
       "      <td>5318 Valerie Street, Bellaire, TX 77401</td>\n",
       "      <td>5497.0</td>\n",
       "      <td>20475.0</td>\n",
       "      <td>3900000.0</td>\n",
       "      <td>77401</td>\n",
       "    </tr>\n",
       "    <tr>\n",
       "      <th>1</th>\n",
       "      <td>82184508</td>\n",
       "      <td>220 Mulberry Lane, Bellaire, TX 77401</td>\n",
       "      <td>5869.0</td>\n",
       "      <td>34800.0</td>\n",
       "      <td>2550000.0</td>\n",
       "      <td>77401</td>\n",
       "    </tr>\n",
       "    <tr>\n",
       "      <th>2</th>\n",
       "      <td>11743323</td>\n",
       "      <td>5301 Pine Street, Bellaire, TX 77401</td>\n",
       "      <td>6508.0</td>\n",
       "      <td>18900.0</td>\n",
       "      <td>2199000.0</td>\n",
       "      <td>77401</td>\n",
       "    </tr>\n",
       "    <tr>\n",
       "      <th>3</th>\n",
       "      <td>27145525</td>\n",
       "      <td>4913 Elm Street, Bellaire, TX 77401</td>\n",
       "      <td>5367.0</td>\n",
       "      <td>12628.0</td>\n",
       "      <td>1995000.0</td>\n",
       "      <td>77401</td>\n",
       "    </tr>\n",
       "    <tr>\n",
       "      <th>4</th>\n",
       "      <td>41138611</td>\n",
       "      <td>502 Chelsea Street, Bellaire, TX 77401</td>\n",
       "      <td>5403.0</td>\n",
       "      <td>9150.0</td>\n",
       "      <td>1995000.0</td>\n",
       "      <td>77401</td>\n",
       "    </tr>\n",
       "    <tr>\n",
       "      <th>5</th>\n",
       "      <td>49358906</td>\n",
       "      <td>5308 Braeburn Drive, Bellaire, TX 77401</td>\n",
       "      <td>5659.0</td>\n",
       "      <td>20475.0</td>\n",
       "      <td>1950000.0</td>\n",
       "      <td>77401</td>\n",
       "    </tr>\n",
       "    <tr>\n",
       "      <th>6</th>\n",
       "      <td>35679760</td>\n",
       "      <td>4900 Wedgewood Drive, Bellaire, TX 77401</td>\n",
       "      <td>5397.0</td>\n",
       "      <td>8750.0</td>\n",
       "      <td>1947000.0</td>\n",
       "      <td>77401</td>\n",
       "    </tr>\n",
       "    <tr>\n",
       "      <th>7</th>\n",
       "      <td>32194385</td>\n",
       "      <td>4570 Elm Street, Bellaire, TX 77401</td>\n",
       "      <td>5318.0</td>\n",
       "      <td>8775.0</td>\n",
       "      <td>1899000.0</td>\n",
       "      <td>77401</td>\n",
       "    </tr>\n",
       "    <tr>\n",
       "      <th>8</th>\n",
       "      <td>3203955</td>\n",
       "      <td>4819 Saxon Street, Bellaire, TX 77401</td>\n",
       "      <td>5806.0</td>\n",
       "      <td>9100.0</td>\n",
       "      <td>1875000.0</td>\n",
       "      <td>77401</td>\n",
       "    </tr>\n",
       "    <tr>\n",
       "      <th>9</th>\n",
       "      <td>87167029</td>\n",
       "      <td>112 Marrakech Court, Bellaire, TX 77401</td>\n",
       "      <td>5140.0</td>\n",
       "      <td>7440.0</td>\n",
       "      <td>1845000.0</td>\n",
       "      <td>77401</td>\n",
       "    </tr>\n",
       "    <tr>\n",
       "      <th>10</th>\n",
       "      <td>29596116</td>\n",
       "      <td>4530 Holt Street, Bellaire, TX 77401</td>\n",
       "      <td>5565.0</td>\n",
       "      <td>9004.0</td>\n",
       "      <td>1795000.0</td>\n",
       "      <td>77401</td>\n",
       "    </tr>\n",
       "    <tr>\n",
       "      <th>11</th>\n",
       "      <td>90621570</td>\n",
       "      <td>526 S 3rd Street, Bellaire, TX 77401</td>\n",
       "      <td>6133.0</td>\n",
       "      <td>10500.0</td>\n",
       "      <td>1760000.0</td>\n",
       "      <td>77401</td>\n",
       "    </tr>\n",
       "  </tbody>\n",
       "</table>\n",
       "</div>"
      ],
      "text/plain": [
       "         mls                                   address  bld_sft  lot_sft  \\\n",
       "0   62981339   5318 Valerie Street, Bellaire, TX 77401   5497.0  20475.0   \n",
       "1   82184508     220 Mulberry Lane, Bellaire, TX 77401   5869.0  34800.0   \n",
       "2   11743323      5301 Pine Street, Bellaire, TX 77401   6508.0  18900.0   \n",
       "3   27145525       4913 Elm Street, Bellaire, TX 77401   5367.0  12628.0   \n",
       "4   41138611    502 Chelsea Street, Bellaire, TX 77401   5403.0   9150.0   \n",
       "5   49358906   5308 Braeburn Drive, Bellaire, TX 77401   5659.0  20475.0   \n",
       "6   35679760  4900 Wedgewood Drive, Bellaire, TX 77401   5397.0   8750.0   \n",
       "7   32194385       4570 Elm Street, Bellaire, TX 77401   5318.0   8775.0   \n",
       "8    3203955     4819 Saxon Street, Bellaire, TX 77401   5806.0   9100.0   \n",
       "9   87167029   112 Marrakech Court, Bellaire, TX 77401   5140.0   7440.0   \n",
       "10  29596116      4530 Holt Street, Bellaire, TX 77401   5565.0   9004.0   \n",
       "11  90621570      526 S 3rd Street, Bellaire, TX 77401   6133.0  10500.0   \n",
       "\n",
       "        price    zip  \n",
       "0   3900000.0  77401  \n",
       "1   2550000.0  77401  \n",
       "2   2199000.0  77401  \n",
       "3   1995000.0  77401  \n",
       "4   1995000.0  77401  \n",
       "5   1950000.0  77401  \n",
       "6   1947000.0  77401  \n",
       "7   1899000.0  77401  \n",
       "8   1875000.0  77401  \n",
       "9   1845000.0  77401  \n",
       "10  1795000.0  77401  \n",
       "11  1760000.0  77401  "
      ]
     },
     "execution_count": 123,
     "metadata": {},
     "output_type": "execute_result"
    }
   ],
   "source": [
    "har_df"
   ]
  },
  {
   "cell_type": "code",
   "execution_count": null,
   "id": "c2347c88",
   "metadata": {},
   "outputs": [],
   "source": [
    "har_df"
   ]
  },
  {
   "cell_type": "code",
   "execution_count": 32,
   "id": "5b91b464",
   "metadata": {},
   "outputs": [],
   "source": [
    "price_string=houses[0].find('div', class_=\"price\").text\n",
    "price=int(price_string.replace(' ', '').replace('$','').replace(',',''))\n",
    "addr=houses[0].find('a', class_=\"address\").text"
   ]
  },
  {
   "cell_type": "code",
   "execution_count": 108,
   "id": "59d26bee",
   "metadata": {},
   "outputs": [],
   "source": [
    "\n",
    "time.sleep(10)"
   ]
  },
  {
   "cell_type": "code",
   "execution_count": 109,
   "id": "be7ed0d5",
   "metadata": {},
   "outputs": [],
   "source": [
    "price_string=fix_num(houses[0].find('div', class_=\"price\").text)"
   ]
  },
  {
   "cell_type": "code",
   "execution_count": 106,
   "id": "af75a99d",
   "metadata": {},
   "outputs": [],
   "source": []
  },
  {
   "cell_type": "code",
   "execution_count": 116,
   "id": "75f278b2",
   "metadata": {},
   "outputs": [
    {
     "data": {
      "text/plain": [
       "62981339"
      ]
     },
     "execution_count": 116,
     "metadata": {},
     "output_type": "execute_result"
    }
   ],
   "source": []
  },
  {
   "cell_type": "code",
   "execution_count": 86,
   "id": "733e560a",
   "metadata": {},
   "outputs": [],
   "source": [
    "\n"
   ]
  },
  {
   "cell_type": "code",
   "execution_count": 110,
   "id": "d0527463",
   "metadata": {},
   "outputs": [
    {
     "data": {
      "text/plain": [
       "5497.0"
      ]
     },
     "execution_count": 110,
     "metadata": {},
     "output_type": "execute_result"
    }
   ],
   "source": [
    "fix_num(houses[0].find('div', class_=\"mp_features\").find(text=battern).__dict__[\"previous_sibling\"].text)"
   ]
  },
  {
   "cell_type": "code",
   "execution_count": 82,
   "id": "7c69297f",
   "metadata": {},
   "outputs": [
    {
     "data": {
      "text/plain": [
       "<span class=\"bold\">5,497</span>"
      ]
     },
     "execution_count": 82,
     "metadata": {},
     "output_type": "execute_result"
    }
   ],
   "source": [
    "houses[0].find('div', class_=\"mp_features\").find_all(\"span\", class_=\"bold\")"
   ]
  },
  {
   "cell_type": "code",
   "execution_count": 80,
   "id": "e81b5c69",
   "metadata": {},
   "outputs": [
    {
     "data": {
      "text/plain": [
       "[<div class=\"mpf_item show_resp\"><span class=\"bold\">5</span> Bed(s)</div>,\n",
       " <div class=\"mpf_item show_resp\"><span class=\"dote\">.</span><span class=\"bold\">4</span> Full &amp; <span class=\"bold\">1</span> Half Bath(s)</div>,\n",
       " <div class=\"mpf_item show_resp\"><span class=\"dote\">.</span><span class=\"bold\">2</span> Stories</div>,\n",
       " <div class=\"mpf_item show_resp\"><span class=\"dote\">.</span><span class=\"bold\">5,497</span> Building Sqft.</div>]"
      ]
     },
     "execution_count": 80,
     "metadata": {},
     "output_type": "execute_result"
    }
   ],
   "source": [
    "houses[0].find_all('div', class_=\"mpf_item show_resp\",)."
   ]
  },
  {
   "cell_type": "code",
   "execution_count": null,
   "id": "d5de073a",
   "metadata": {},
   "outputs": [],
   "source": []
  }
 ],
 "metadata": {
  "kernelspec": {
   "display_name": "Python 3",
   "language": "python",
   "name": "python3"
  },
  "language_info": {
   "codemirror_mode": {
    "name": "ipython",
    "version": 3
   },
   "file_extension": ".py",
   "mimetype": "text/x-python",
   "name": "python",
   "nbconvert_exporter": "python",
   "pygments_lexer": "ipython3",
   "version": "3.6.13"
  }
 },
 "nbformat": 4,
 "nbformat_minor": 5
}
