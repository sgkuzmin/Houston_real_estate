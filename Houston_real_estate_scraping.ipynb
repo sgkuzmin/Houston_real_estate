{
 "cells": [
  {
   "cell_type": "code",
   "execution_count": 97,
   "id": "ef1901dd",
   "metadata": {},
   "outputs": [],
   "source": [
    "from bs4 import BeautifulSoup as bs\n",
    "from splinter import Browser\n",
    "from webdriver_manager.chrome import ChromeDriverManager\n",
    "import pandas as pd\n",
    "import re\n",
    "import time "
   ]
  },
  {
   "cell_type": "code",
   "execution_count": 115,
   "id": "17b2d058",
   "metadata": {},
   "outputs": [],
   "source": [
    "def fix_num(num):\n",
    "    return float(re.sub('[^0-9\\.]', \"\", num))\n",
    "\n",
    "def fix_num_int(num):\n",
    "    return int(re.sub('[^0-9\\.]', \"\", num))"
   ]
  },
  {
   "cell_type": "code",
   "execution_count": 2,
   "id": "a0b48f07",
   "metadata": {},
   "outputs": [
    {
     "name": "stderr",
     "output_type": "stream",
     "text": [
      "\n",
      "\n",
      "====== WebDriver manager ======\n",
      "Current google-chrome version is 94.0.4606\n",
      "Get LATEST driver version for 94.0.4606\n",
      "Get LATEST driver version for 94.0.4606\n",
      "Trying to download new driver from https://chromedriver.storage.googleapis.com/94.0.4606.61/chromedriver_win32.zip\n",
      "Driver has been saved in cache [C:\\Users\\sgkuz\\.wdm\\drivers\\chromedriver\\win32\\94.0.4606.61]\n"
     ]
    }
   ],
   "source": [
    "executable_path = {'executable_path': ChromeDriverManager().install()}\n",
    "browser = Browser('chrome', **executable_path, headless=False)"
   ]
  },
  {
   "cell_type": "code",
   "execution_count": 230,
   "id": "394f6111",
   "metadata": {},
   "outputs": [],
   "source": [
    "url='https://www.har.com/zipcode_77401/realestate/for_sale'"
   ]
  },
  {
   "cell_type": "code",
   "execution_count": 241,
   "id": "3a2d0387",
   "metadata": {},
   "outputs": [],
   "source": [
    "har_df = pd.DataFrame(columns = ['mls', 'address', 'bld_sft','lot_sft','price', 'zip'])"
   ]
  },
  {
   "cell_type": "code",
   "execution_count": 242,
   "id": "c5fd2683",
   "metadata": {},
   "outputs": [],
   "source": [
    "browser.visit(url)"
   ]
  },
  {
   "cell_type": "code",
   "execution_count": 243,
   "id": "15554340",
   "metadata": {},
   "outputs": [],
   "source": [
    "html = browser.html\n",
    "soup = bs(html, 'html.parser')"
   ]
  },
  {
   "cell_type": "code",
   "execution_count": 244,
   "id": "ca2e2e82",
   "metadata": {},
   "outputs": [],
   "source": [
    "#Scrape the houses for the current search page\n",
    "houses=soup.find_all('div', class_=\"prop_item\")"
   ]
  },
  {
   "cell_type": "code",
   "execution_count": 245,
   "id": "2c795933",
   "metadata": {},
   "outputs": [],
   "source": [
    "current_zip='77401'\n",
    "bldgsft_pattern = re.compile(r'Building Sqft')\n",
    "lotsft_pattern = re.compile(r'Lot Sqft')\n",
    "\n",
    "\n",
    "\n",
    "for house in houses:\n",
    "    asking_price=fix_num(house.find('div', class_=\"price\").text)\n",
    "    try:\n",
    "        bldg_sft=fix_num(house.find('div', class_=\"mp_features\").find(text=bldgsft_pattern).__dict__[\"previous_sibling\"].text)\n",
    "    except AttributeError:\n",
    "        bldg_sft=0\n",
    "    try:\n",
    "        lot_sft=fix_num(house.find('div', class_=\"mp_features\").find(text=lotsft_pattern).__dict__[\"previous_sibling\"].text)\n",
    "    except AttributeError:\n",
    "        lot_sft=0\n",
    "    addr=house.find('a', class_=\"address\").text\n",
    "    mls_no=fix_num_int(house.find('div', class_=\"mpi_mls\").text)\n",
    "    property_zip=current_zip\n",
    "    har_df = har_df.append({'mls' : mls_no, 'address' : addr, 'bld_sft' : bldg_sft, 'lot_sft': lot_sft, 'price': asking_price, 'zip': current_zip }, ignore_index = True)\n",
    "\n",
    "\n"
   ]
  },
  {
   "cell_type": "code",
   "execution_count": 247,
   "id": "e0214972",
   "metadata": {},
   "outputs": [],
   "source": [
    "navigation=soup.find_all('div', class_=\"pagination\")\n",
    "number_of_pages=len(navigation[0].ul.find_all('li'))\n",
    "\n",
    "for i in range(2, number_of_pages+1):\n",
    "    nextlink=browser.links.find_by_text(str(i))\n",
    "    if len(nextlink)==1:\n",
    "        nextlink.click()\n",
    "    else:\n",
    "        nextlink[1].click()\n",
    "    time.sleep(5)\n",
    "    \n",
    "    html = browser.html\n",
    "    soup = bs(html, 'html.parser')\n",
    "    houses=soup.find_all('div', class_=\"prop_item\")\n",
    "    for house in houses:\n",
    "        asking_price=fix_num(house.find('div', class_=\"price\").text)\n",
    "        try:\n",
    "            bldg_sft=fix_num(house.find('div', class_=\"mp_features\").find(text=bldgsft_pattern).__dict__[\"previous_sibling\"].text)\n",
    "        except AttributeError:\n",
    "            bldg_sft=0\n",
    "        try:\n",
    "            lot_sft=fix_num(house.find('div', class_=\"mp_features\").find(text=lotsft_pattern).__dict__[\"previous_sibling\"].text)\n",
    "        except AttributeError:\n",
    "            lot_sft=0\n",
    "        addr=house.find('a', class_=\"address\").text\n",
    "        mls_no=fix_num_int(house.find('div', class_=\"mpi_mls\").text)\n",
    "        property_zip=current_zip\n",
    "        har_df = har_df.append({'mls' : mls_no, 'address' : addr, 'bld_sft' : bldg_sft, 'lot_sft': lot_sft, 'price': asking_price, 'zip': current_zip }, ignore_index = True)\n",
    "\n"
   ]
  },
  {
   "cell_type": "code",
   "execution_count": 249,
   "id": "bc80f018",
   "metadata": {},
   "outputs": [
    {
     "data": {
      "text/html": [
       "<div>\n",
       "<style scoped>\n",
       "    .dataframe tbody tr th:only-of-type {\n",
       "        vertical-align: middle;\n",
       "    }\n",
       "\n",
       "    .dataframe tbody tr th {\n",
       "        vertical-align: top;\n",
       "    }\n",
       "\n",
       "    .dataframe thead th {\n",
       "        text-align: right;\n",
       "    }\n",
       "</style>\n",
       "<table border=\"1\" class=\"dataframe\">\n",
       "  <thead>\n",
       "    <tr style=\"text-align: right;\">\n",
       "      <th></th>\n",
       "      <th>mls</th>\n",
       "      <th>address</th>\n",
       "      <th>bld_sft</th>\n",
       "      <th>lot_sft</th>\n",
       "      <th>price</th>\n",
       "      <th>zip</th>\n",
       "    </tr>\n",
       "  </thead>\n",
       "  <tbody>\n",
       "    <tr>\n",
       "      <th>0</th>\n",
       "      <td>62981339</td>\n",
       "      <td>5318 Valerie Street, Bellaire, TX 77401</td>\n",
       "      <td>5497.0</td>\n",
       "      <td>20475.0</td>\n",
       "      <td>3900000.0</td>\n",
       "      <td>77401</td>\n",
       "    </tr>\n",
       "    <tr>\n",
       "      <th>1</th>\n",
       "      <td>82184508</td>\n",
       "      <td>220 Mulberry Lane, Bellaire, TX 77401</td>\n",
       "      <td>5869.0</td>\n",
       "      <td>34800.0</td>\n",
       "      <td>2550000.0</td>\n",
       "      <td>77401</td>\n",
       "    </tr>\n",
       "    <tr>\n",
       "      <th>2</th>\n",
       "      <td>11743323</td>\n",
       "      <td>5301 Pine Street, Bellaire, TX 77401</td>\n",
       "      <td>6508.0</td>\n",
       "      <td>18900.0</td>\n",
       "      <td>2199000.0</td>\n",
       "      <td>77401</td>\n",
       "    </tr>\n",
       "    <tr>\n",
       "      <th>3</th>\n",
       "      <td>27145525</td>\n",
       "      <td>4913 Elm Street, Bellaire, TX 77401</td>\n",
       "      <td>5367.0</td>\n",
       "      <td>12628.0</td>\n",
       "      <td>1995000.0</td>\n",
       "      <td>77401</td>\n",
       "    </tr>\n",
       "    <tr>\n",
       "      <th>4</th>\n",
       "      <td>41138611</td>\n",
       "      <td>502 Chelsea Street, Bellaire, TX 77401</td>\n",
       "      <td>5403.0</td>\n",
       "      <td>9150.0</td>\n",
       "      <td>1995000.0</td>\n",
       "      <td>77401</td>\n",
       "    </tr>\n",
       "    <tr>\n",
       "      <th>...</th>\n",
       "      <td>...</td>\n",
       "      <td>...</td>\n",
       "      <td>...</td>\n",
       "      <td>...</td>\n",
       "      <td>...</td>\n",
       "      <td>...</td>\n",
       "    </tr>\n",
       "    <tr>\n",
       "      <th>169</th>\n",
       "      <td>25555081</td>\n",
       "      <td>1225 MULBERRY, Bellaire, TX 77401</td>\n",
       "      <td>0.0</td>\n",
       "      <td>6440.0</td>\n",
       "      <td>299000.0</td>\n",
       "      <td>77401</td>\n",
       "    </tr>\n",
       "    <tr>\n",
       "      <th>170</th>\n",
       "      <td>75390379</td>\n",
       "      <td>6308 S Rice Avenue, Bellaire, TX 77401</td>\n",
       "      <td>1636.0</td>\n",
       "      <td>2208.0</td>\n",
       "      <td>299000.0</td>\n",
       "      <td>77401</td>\n",
       "    </tr>\n",
       "    <tr>\n",
       "      <th>171</th>\n",
       "      <td>40077556</td>\n",
       "      <td>5205 Palmetto Street F, Bellaire, TX 77401</td>\n",
       "      <td>1387.0</td>\n",
       "      <td>2430.0</td>\n",
       "      <td>299000.0</td>\n",
       "      <td>77401</td>\n",
       "    </tr>\n",
       "    <tr>\n",
       "      <th>172</th>\n",
       "      <td>16825721</td>\n",
       "      <td>4404 EDITH, Bellaire, TX 77401</td>\n",
       "      <td>0.0</td>\n",
       "      <td>0.0</td>\n",
       "      <td>235000.0</td>\n",
       "      <td>77401</td>\n",
       "    </tr>\n",
       "    <tr>\n",
       "      <th>173</th>\n",
       "      <td>11758295</td>\n",
       "      <td>18 Townhouse Court, Bellaire, TX 77401</td>\n",
       "      <td>2080.0</td>\n",
       "      <td>2197.0</td>\n",
       "      <td>229950.0</td>\n",
       "      <td>77401</td>\n",
       "    </tr>\n",
       "  </tbody>\n",
       "</table>\n",
       "<p>174 rows × 6 columns</p>\n",
       "</div>"
      ],
      "text/plain": [
       "          mls                                     address  bld_sft  lot_sft  \\\n",
       "0    62981339     5318 Valerie Street, Bellaire, TX 77401   5497.0  20475.0   \n",
       "1    82184508       220 Mulberry Lane, Bellaire, TX 77401   5869.0  34800.0   \n",
       "2    11743323        5301 Pine Street, Bellaire, TX 77401   6508.0  18900.0   \n",
       "3    27145525         4913 Elm Street, Bellaire, TX 77401   5367.0  12628.0   \n",
       "4    41138611      502 Chelsea Street, Bellaire, TX 77401   5403.0   9150.0   \n",
       "..        ...                                         ...      ...      ...   \n",
       "169  25555081           1225 MULBERRY, Bellaire, TX 77401      0.0   6440.0   \n",
       "170  75390379      6308 S Rice Avenue, Bellaire, TX 77401   1636.0   2208.0   \n",
       "171  40077556  5205 Palmetto Street F, Bellaire, TX 77401   1387.0   2430.0   \n",
       "172  16825721              4404 EDITH, Bellaire, TX 77401      0.0      0.0   \n",
       "173  11758295      18 Townhouse Court, Bellaire, TX 77401   2080.0   2197.0   \n",
       "\n",
       "         price    zip  \n",
       "0    3900000.0  77401  \n",
       "1    2550000.0  77401  \n",
       "2    2199000.0  77401  \n",
       "3    1995000.0  77401  \n",
       "4    1995000.0  77401  \n",
       "..         ...    ...  \n",
       "169   299000.0  77401  \n",
       "170   299000.0  77401  \n",
       "171   299000.0  77401  \n",
       "172   235000.0  77401  \n",
       "173   229950.0  77401  \n",
       "\n",
       "[174 rows x 6 columns]"
      ]
     },
     "execution_count": 249,
     "metadata": {},
     "output_type": "execute_result"
    }
   ],
   "source": [
    "har_df"
   ]
  },
  {
   "cell_type": "code",
   "execution_count": 208,
   "id": "856123ca",
   "metadata": {},
   "outputs": [
    {
     "data": {
      "text/plain": [
       "1"
      ]
     },
     "execution_count": 208,
     "metadata": {},
     "output_type": "execute_result"
    }
   ],
   "source": [
    "len(browser.links.find_by_text('15'))\n"
   ]
  },
  {
   "cell_type": "code",
   "execution_count": 183,
   "id": "e6209996",
   "metadata": {},
   "outputs": [
    {
     "data": {
      "text/plain": [
       "'15'"
      ]
     },
     "execution_count": 183,
     "metadata": {},
     "output_type": "execute_result"
    }
   ],
   "source": [
    "\n",
    "navigation[0].ul.find_all('li')[14].text"
   ]
  },
  {
   "cell_type": "code",
   "execution_count": 225,
   "id": "7a7418c9",
   "metadata": {},
   "outputs": [
    {
     "data": {
      "text/plain": [
       "15"
      ]
     },
     "execution_count": 225,
     "metadata": {},
     "output_type": "execute_result"
    }
   ],
   "source": []
  },
  {
   "cell_type": "code",
   "execution_count": 32,
   "id": "169e7bae",
   "metadata": {},
   "outputs": [],
   "source": [
    "price_string=houses[0].find('div', class_=\"price\").text\n",
    "price=int(price_string.replace(' ', '').replace('$','').replace(',',''))\n",
    "addr=houses[0].find('a', class_=\"address\").text"
   ]
  },
  {
   "cell_type": "code",
   "execution_count": 108,
   "id": "9261d7be",
   "metadata": {},
   "outputs": [],
   "source": [
    "\n",
    "time.sleep(10)"
   ]
  },
  {
   "cell_type": "code",
   "execution_count": 109,
   "id": "5ab6de43",
   "metadata": {},
   "outputs": [],
   "source": [
    "price_string=fix_num(houses[0].find('div', class_=\"price\").text)"
   ]
  },
  {
   "cell_type": "code",
   "execution_count": 106,
   "id": "e936582f",
   "metadata": {},
   "outputs": [],
   "source": []
  },
  {
   "cell_type": "code",
   "execution_count": 116,
   "id": "b5d149a5",
   "metadata": {},
   "outputs": [
    {
     "data": {
      "text/plain": [
       "62981339"
      ]
     },
     "execution_count": 116,
     "metadata": {},
     "output_type": "execute_result"
    }
   ],
   "source": []
  },
  {
   "cell_type": "code",
   "execution_count": 86,
   "id": "91393d0c",
   "metadata": {},
   "outputs": [],
   "source": [
    "\n"
   ]
  },
  {
   "cell_type": "code",
   "execution_count": 110,
   "id": "ede207fd",
   "metadata": {},
   "outputs": [
    {
     "data": {
      "text/plain": [
       "5497.0"
      ]
     },
     "execution_count": 110,
     "metadata": {},
     "output_type": "execute_result"
    }
   ],
   "source": [
    "fix_num(houses[0].find('div', class_=\"mp_features\").find(text=battern).__dict__[\"previous_sibling\"].text)"
   ]
  },
  {
   "cell_type": "code",
   "execution_count": 82,
   "id": "9f6219ca",
   "metadata": {},
   "outputs": [
    {
     "data": {
      "text/plain": [
       "<span class=\"bold\">5,497</span>"
      ]
     },
     "execution_count": 82,
     "metadata": {},
     "output_type": "execute_result"
    }
   ],
   "source": [
    "houses[0].find('div', class_=\"mp_features\").find_all(\"span\", class_=\"bold\")"
   ]
  },
  {
   "cell_type": "code",
   "execution_count": 80,
   "id": "63d62c86",
   "metadata": {},
   "outputs": [
    {
     "data": {
      "text/plain": [
       "[<div class=\"mpf_item show_resp\"><span class=\"bold\">5</span> Bed(s)</div>,\n",
       " <div class=\"mpf_item show_resp\"><span class=\"dote\">.</span><span class=\"bold\">4</span> Full &amp; <span class=\"bold\">1</span> Half Bath(s)</div>,\n",
       " <div class=\"mpf_item show_resp\"><span class=\"dote\">.</span><span class=\"bold\">2</span> Stories</div>,\n",
       " <div class=\"mpf_item show_resp\"><span class=\"dote\">.</span><span class=\"bold\">5,497</span> Building Sqft.</div>]"
      ]
     },
     "execution_count": 80,
     "metadata": {},
     "output_type": "execute_result"
    }
   ],
   "source": [
    "houses[0].find_all('div', class_=\"mpf_item show_resp\",)."
   ]
  },
  {
   "cell_type": "code",
   "execution_count": null,
   "id": "cdf099a3",
   "metadata": {},
   "outputs": [],
   "source": []
  }
 ],
 "metadata": {
  "kernelspec": {
   "display_name": "Python 3",
   "language": "python",
   "name": "python3"
  },
  "language_info": {
   "codemirror_mode": {
    "name": "ipython",
    "version": 3
   },
   "file_extension": ".py",
   "mimetype": "text/x-python",
   "name": "python",
   "nbconvert_exporter": "python",
   "pygments_lexer": "ipython3",
   "version": "3.8.8"
  }
 },
 "nbformat": 4,
 "nbformat_minor": 5
}
