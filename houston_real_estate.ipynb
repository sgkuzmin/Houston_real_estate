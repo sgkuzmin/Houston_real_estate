{
 "cells": [
  {
   "cell_type": "code",
   "execution_count": 36,
   "id": "69f1d1c4",
   "metadata": {},
   "outputs": [],
   "source": [
    "import pandas as pd\n",
    "import os\n",
    "from dotenv import load_dotenv\n",
    "from sqlalchemy import create_engine\n",
    "# Load .env enviroment variables into the notebook\n",
    "load_dotenv()\n",
    "# Get the postgres connection information from os file. \n",
    "\n",
    "DB_HOST = os.getenv('DB_HOST')\n",
    "DB_NAME = os.getenv('DB_NAME')\n",
    "DB_USER = os.getenv('DB_USER')\n",
    "DB_PASS = os.getenv('DB_PASS')"
   ]
  },
  {
   "cell_type": "code",
   "execution_count": 37,
   "id": "46fc6975",
   "metadata": {},
   "outputs": [],
   "source": [
    "\n",
    "real_acct_df = pd.read_csv('../real_estate_data/real_acct_owner/real_acct.txt', sep='\\t',lineterminator='\\r',header=0,encoding='latin1',low_memory=False)"
   ]
  },
  {
   "cell_type": "code",
   "execution_count": 38,
   "id": "ccc2d7f2",
   "metadata": {},
   "outputs": [
    {
     "data": {
      "text/plain": [
       "Index(['acct', 'yr', 'mailto', 'mail_addr_1', 'mail_addr_2', 'mail_city',\n",
       "       'mail_state', 'mail_zip', 'mail_country', 'undeliverable', 'str_pfx',\n",
       "       'str_num', 'str_num_sfx', 'str', 'str_sfx', 'str_sfx_dir', 'str_unit',\n",
       "       'site_addr_1', 'site_addr_2', 'site_addr_3', 'state_class',\n",
       "       'school_dist', 'map_facet', 'key_map', 'Neighborhood_Code',\n",
       "       'Neighborhood_Grp', 'Market_Area_1', 'Market_Area_1_Dscr',\n",
       "       'Market_Area_2', 'Market_Area_2_Dscr', 'econ_area', 'econ_bld_class',\n",
       "       'center_code', 'yr_impr', 'yr_annexed', 'splt_dt', 'dsc_cd', 'nxt_bld',\n",
       "       'bld_ar', 'land_ar', 'acreage', 'Cap_acct', 'shared_cad', 'land_val',\n",
       "       'bld_val', 'x_features_val', 'ag_val', 'assessed_val', 'tot_appr_val',\n",
       "       'tot_mkt_val', 'prior_land_val', 'prior_bld_val',\n",
       "       'prior_x_features_val', 'prior_ag_val', 'prior_tot_appr_val',\n",
       "       'prior_tot_mkt_val', 'new_construction_val', 'tot_rcn_val',\n",
       "       'value_status', 'noticed', 'notice_dt', 'protested', 'certified_date',\n",
       "       'rev_dt', 'rev_by', 'new_own_dt', 'lgl_1', 'lgl_2', 'lgl_3', 'lgl_4',\n",
       "       'jurs'],\n",
       "      dtype='object')"
      ]
     },
     "execution_count": 38,
     "metadata": {},
     "output_type": "execute_result"
    }
   ],
   "source": [
    "columns = real_acct_df.columns\n",
    "columns"
   ]
  },
  {
   "cell_type": "code",
   "execution_count": 39,
   "id": "194400cb",
   "metadata": {},
   "outputs": [],
   "source": [
    "# new_cols = ['acct', 'str_pfx', 'str_num',\n",
    "#        'str_num_sfx', 'str', 'str_sfx', 'str_sfx_dir', 'str_unit',\n",
    "#        'site_addr_1', 'site_addr_2', 'site_addr_3','bld_val', 'x_features_val', 'ag_val', \n",
    "#        'assessed_val', 'tot_appr_val',\n",
    "#        'tot_mkt_val', 'prior_land_val', 'prior_bld_val',\n",
    "#        'prior_x_features_val', 'prior_ag_val', 'prior_tot_appr_val',\n",
    "#        'prior_tot_mkt_val', 'new_construction_val', 'tot_rcn_val',\n",
    "#        'value_status', 'certified_date']"
   ]
  },
  {
   "cell_type": "code",
   "execution_count": 40,
   "id": "fa24f600",
   "metadata": {},
   "outputs": [],
   "source": [
    "new_cols = ['acct','str_num','str_num_sfx','str','str_sfx','str_sfx_dir','str_unit','site_addr_1','site_addr_2',\n",
    "'site_addr_3','bld_ar','land_ar','tot_appr_val','tot_mkt_val']"
   ]
  },
  {
   "cell_type": "code",
   "execution_count": 41,
   "id": "d7f20d3b",
   "metadata": {},
   "outputs": [
    {
     "data": {
      "text/html": [
       "<div>\n",
       "<style scoped>\n",
       "    .dataframe tbody tr th:only-of-type {\n",
       "        vertical-align: middle;\n",
       "    }\n",
       "\n",
       "    .dataframe tbody tr th {\n",
       "        vertical-align: top;\n",
       "    }\n",
       "\n",
       "    .dataframe thead th {\n",
       "        text-align: right;\n",
       "    }\n",
       "</style>\n",
       "<table border=\"1\" class=\"dataframe\">\n",
       "  <thead>\n",
       "    <tr style=\"text-align: right;\">\n",
       "      <th></th>\n",
       "      <th>acct</th>\n",
       "      <th>str_num</th>\n",
       "      <th>str_num_sfx</th>\n",
       "      <th>str</th>\n",
       "      <th>str_sfx</th>\n",
       "      <th>str_sfx_dir</th>\n",
       "      <th>str_unit</th>\n",
       "      <th>site_addr_1</th>\n",
       "      <th>site_addr_2</th>\n",
       "      <th>site_addr_3</th>\n",
       "      <th>bld_ar</th>\n",
       "      <th>land_ar</th>\n",
       "      <th>tot_appr_val</th>\n",
       "      <th>tot_mkt_val</th>\n",
       "    </tr>\n",
       "  </thead>\n",
       "  <tbody>\n",
       "    <tr>\n",
       "      <th>0</th>\n",
       "      <td>\\n0010010000013</td>\n",
       "      <td>0.0</td>\n",
       "      <td></td>\n",
       "      <td>COMMERCE</td>\n",
       "      <td>ST</td>\n",
       "      <td></td>\n",
       "      <td></td>\n",
       "      <td>0 COMMERCE ST</td>\n",
       "      <td>HOUSTON</td>\n",
       "      <td>77002</td>\n",
       "      <td>0.0</td>\n",
       "      <td>44431.0</td>\n",
       "      <td>0.0</td>\n",
       "      <td>0.0</td>\n",
       "    </tr>\n",
       "    <tr>\n",
       "      <th>1</th>\n",
       "      <td>\\n0010020000001</td>\n",
       "      <td>907.0</td>\n",
       "      <td></td>\n",
       "      <td>COMMERCE</td>\n",
       "      <td>ST</td>\n",
       "      <td></td>\n",
       "      <td></td>\n",
       "      <td>907 COMMERCE ST</td>\n",
       "      <td>HOUSTON</td>\n",
       "      <td>77002</td>\n",
       "      <td>0.0</td>\n",
       "      <td>5001.0</td>\n",
       "      <td>309120.0</td>\n",
       "      <td>309120.0</td>\n",
       "    </tr>\n",
       "    <tr>\n",
       "      <th>2</th>\n",
       "      <td>\\n0010020000003</td>\n",
       "      <td>0.0</td>\n",
       "      <td></td>\n",
       "      <td>COMMERCE</td>\n",
       "      <td>ST</td>\n",
       "      <td></td>\n",
       "      <td></td>\n",
       "      <td>0 COMMERCE ST</td>\n",
       "      <td>HOUSTON</td>\n",
       "      <td>77002</td>\n",
       "      <td>0.0</td>\n",
       "      <td>18121.0</td>\n",
       "      <td>889398.0</td>\n",
       "      <td>889398.0</td>\n",
       "    </tr>\n",
       "    <tr>\n",
       "      <th>3</th>\n",
       "      <td>\\n0010020000004</td>\n",
       "      <td>0.0</td>\n",
       "      <td></td>\n",
       "      <td>COMMERCE</td>\n",
       "      <td>ST</td>\n",
       "      <td></td>\n",
       "      <td></td>\n",
       "      <td>0 COMMERCE ST</td>\n",
       "      <td>HOUSTON</td>\n",
       "      <td>77002</td>\n",
       "      <td>0.0</td>\n",
       "      <td>9061.0</td>\n",
       "      <td>444699.0</td>\n",
       "      <td>444699.0</td>\n",
       "    </tr>\n",
       "    <tr>\n",
       "      <th>4</th>\n",
       "      <td>\\n0010020000013</td>\n",
       "      <td>921.0</td>\n",
       "      <td></td>\n",
       "      <td>COMMERCE</td>\n",
       "      <td>ST</td>\n",
       "      <td></td>\n",
       "      <td></td>\n",
       "      <td>921 COMMERCE ST</td>\n",
       "      <td>HOUSTON</td>\n",
       "      <td>77002</td>\n",
       "      <td>0.0</td>\n",
       "      <td>3001.0</td>\n",
       "      <td>0.0</td>\n",
       "      <td>0.0</td>\n",
       "    </tr>\n",
       "  </tbody>\n",
       "</table>\n",
       "</div>"
      ],
      "text/plain": [
       "                          acct  str_num str_num_sfx       str str_sfx  \\\n",
       "0  \\n0010010000013                  0.0              COMMERCE      ST   \n",
       "1  \\n0010020000001                907.0              COMMERCE      ST   \n",
       "2  \\n0010020000003                  0.0              COMMERCE      ST   \n",
       "3  \\n0010020000004                  0.0              COMMERCE      ST   \n",
       "4  \\n0010020000013                921.0              COMMERCE      ST   \n",
       "\n",
       "  str_sfx_dir str_unit      site_addr_1 site_addr_2 site_addr_3  bld_ar  \\\n",
       "0                         0 COMMERCE ST     HOUSTON       77002     0.0   \n",
       "1                       907 COMMERCE ST     HOUSTON       77002     0.0   \n",
       "2                         0 COMMERCE ST     HOUSTON       77002     0.0   \n",
       "3                         0 COMMERCE ST     HOUSTON       77002     0.0   \n",
       "4                       921 COMMERCE ST     HOUSTON       77002     0.0   \n",
       "\n",
       "   land_ar  tot_appr_val  tot_mkt_val  \n",
       "0  44431.0           0.0          0.0  \n",
       "1   5001.0      309120.0     309120.0  \n",
       "2  18121.0      889398.0     889398.0  \n",
       "3   9061.0      444699.0     444699.0  \n",
       "4   3001.0           0.0          0.0  "
      ]
     },
     "execution_count": 41,
     "metadata": {},
     "output_type": "execute_result"
    }
   ],
   "source": [
    "# remove the columns that we don't need\n",
    "real_acct_df = real_acct_df[new_cols]\n",
    "real_acct_df.head()"
   ]
  },
  {
   "cell_type": "code",
   "execution_count": 42,
   "id": "b0bfd4a9",
   "metadata": {},
   "outputs": [],
   "source": [
    "# remove the \\n from the account column\n",
    "def clean(x):\n",
    "    x = x.replace('\\n','')\n",
    "    return x"
   ]
  },
  {
   "cell_type": "code",
   "execution_count": 43,
   "id": "3f104b78",
   "metadata": {},
   "outputs": [],
   "source": [
    "real_acct_df['acct'] = real_acct_df['acct'].apply(clean)"
   ]
  },
  {
   "cell_type": "code",
   "execution_count": 44,
   "id": "4efff5cb",
   "metadata": {},
   "outputs": [
    {
     "data": {
      "text/html": [
       "<div>\n",
       "<style scoped>\n",
       "    .dataframe tbody tr th:only-of-type {\n",
       "        vertical-align: middle;\n",
       "    }\n",
       "\n",
       "    .dataframe tbody tr th {\n",
       "        vertical-align: top;\n",
       "    }\n",
       "\n",
       "    .dataframe thead th {\n",
       "        text-align: right;\n",
       "    }\n",
       "</style>\n",
       "<table border=\"1\" class=\"dataframe\">\n",
       "  <thead>\n",
       "    <tr style=\"text-align: right;\">\n",
       "      <th></th>\n",
       "      <th>acct</th>\n",
       "      <th>str_num</th>\n",
       "      <th>str_num_sfx</th>\n",
       "      <th>str</th>\n",
       "      <th>str_sfx</th>\n",
       "      <th>str_sfx_dir</th>\n",
       "      <th>str_unit</th>\n",
       "      <th>site_addr_1</th>\n",
       "      <th>site_addr_2</th>\n",
       "      <th>site_addr_3</th>\n",
       "      <th>bld_ar</th>\n",
       "      <th>land_ar</th>\n",
       "      <th>tot_appr_val</th>\n",
       "      <th>tot_mkt_val</th>\n",
       "    </tr>\n",
       "  </thead>\n",
       "  <tbody>\n",
       "    <tr>\n",
       "      <th>0</th>\n",
       "      <td>0010010000013</td>\n",
       "      <td>0.0</td>\n",
       "      <td></td>\n",
       "      <td>COMMERCE</td>\n",
       "      <td>ST</td>\n",
       "      <td></td>\n",
       "      <td></td>\n",
       "      <td>0 COMMERCE ST</td>\n",
       "      <td>HOUSTON</td>\n",
       "      <td>77002</td>\n",
       "      <td>0.0</td>\n",
       "      <td>44431.0</td>\n",
       "      <td>0.0</td>\n",
       "      <td>0.0</td>\n",
       "    </tr>\n",
       "    <tr>\n",
       "      <th>1</th>\n",
       "      <td>0010020000001</td>\n",
       "      <td>907.0</td>\n",
       "      <td></td>\n",
       "      <td>COMMERCE</td>\n",
       "      <td>ST</td>\n",
       "      <td></td>\n",
       "      <td></td>\n",
       "      <td>907 COMMERCE ST</td>\n",
       "      <td>HOUSTON</td>\n",
       "      <td>77002</td>\n",
       "      <td>0.0</td>\n",
       "      <td>5001.0</td>\n",
       "      <td>309120.0</td>\n",
       "      <td>309120.0</td>\n",
       "    </tr>\n",
       "  </tbody>\n",
       "</table>\n",
       "</div>"
      ],
      "text/plain": [
       "                        acct  str_num str_num_sfx       str str_sfx  \\\n",
       "0  0010010000013                  0.0              COMMERCE      ST   \n",
       "1  0010020000001                907.0              COMMERCE      ST   \n",
       "\n",
       "  str_sfx_dir str_unit      site_addr_1 site_addr_2 site_addr_3  bld_ar  \\\n",
       "0                         0 COMMERCE ST     HOUSTON       77002     0.0   \n",
       "1                       907 COMMERCE ST     HOUSTON       77002     0.0   \n",
       "\n",
       "   land_ar  tot_appr_val  tot_mkt_val  \n",
       "0  44431.0           0.0          0.0  \n",
       "1   5001.0      309120.0     309120.0  "
      ]
     },
     "execution_count": 44,
     "metadata": {},
     "output_type": "execute_result"
    }
   ],
   "source": [
    "real_acct_df.head(2)"
   ]
  },
  {
   "cell_type": "code",
   "execution_count": 45,
   "id": "67092abe",
   "metadata": {},
   "outputs": [],
   "source": [
    "# load 5 million rows to local database\n",
    "engine = create_engine(f'postgresql://{DB_USER}:{DB_PASS}@{DB_HOST}:5432/Houston_real_estate')\n",
    "# load df to database\n",
    "real_acct_df.to_sql('real_acct',engine,index=False,if_exists='replace')"
   ]
  },
  {
   "cell_type": "code",
   "execution_count": 46,
   "id": "269ce063",
   "metadata": {},
   "outputs": [
    {
     "data": {
      "text/plain": [
       "acct             object\n",
       "str_num         float64\n",
       "str_num_sfx      object\n",
       "str              object\n",
       "str_sfx          object\n",
       "str_sfx_dir      object\n",
       "str_unit         object\n",
       "site_addr_1      object\n",
       "site_addr_2      object\n",
       "site_addr_3      object\n",
       "bld_ar          float64\n",
       "land_ar         float64\n",
       "tot_appr_val    float64\n",
       "tot_mkt_val     float64\n",
       "dtype: object"
      ]
     },
     "execution_count": 46,
     "metadata": {},
     "output_type": "execute_result"
    }
   ],
   "source": [
    "real_acct_df.dtypes"
   ]
  },
  {
   "cell_type": "code",
   "execution_count": null,
   "id": "e9766116",
   "metadata": {},
   "outputs": [],
   "source": []
  }
 ],
 "metadata": {
  "kernelspec": {
   "display_name": "Python [conda env:PythonData] *",
   "language": "python",
   "name": "conda-env-PythonData-py"
  },
  "language_info": {
   "codemirror_mode": {
    "name": "ipython",
    "version": 3
   },
   "file_extension": ".py",
   "mimetype": "text/x-python",
   "name": "python",
   "nbconvert_exporter": "python",
   "pygments_lexer": "ipython3",
   "version": "3.6.13"
  }
 },
 "nbformat": 4,
 "nbformat_minor": 5
}
