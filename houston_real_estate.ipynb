{
 "cells": [
  {
   "cell_type": "code",
   "execution_count": 1,
   "id": "69f1d1c4",
   "metadata": {},
   "outputs": [],
   "source": [
    "import pandas as pd\n",
    "import os\n",
    "from dotenv import load_dotenv\n",
    "from sqlalchemy import create_engine\n",
    "# Load .env enviroment variables into the notebook\n",
    "load_dotenv()\n",
    "# Get the postgres connection information from os file. \n",
    "\n",
    "DB_HOST = os.getenv('DB_HOST')\n",
    "DB_NAME = os.getenv('DB_NAME')\n",
    "DB_USER = os.getenv('DB_USER')\n",
    "DB_PASS = os.getenv('DB_PASS')\n",
    "from bs4 import BeautifulSoup as bs\n",
    "from splinter import Browser\n",
    "from webdriver_manager.chrome import ChromeDriverManager\n",
    "import re\n",
    "import time "
   ]
  },
  {
   "cell_type": "code",
   "execution_count": 2,
   "id": "46fc6975",
   "metadata": {},
   "outputs": [],
   "source": [
    "\n",
    "real_acct_df = pd.read_csv('../real_estate_data/real_acct_owner/real_acct.txt', sep='\\t',lineterminator='\\r',header=0,encoding='latin1',low_memory=False)"
   ]
  },
  {
   "cell_type": "code",
   "execution_count": 3,
   "id": "611b6f10",
   "metadata": {},
   "outputs": [
    {
     "data": {
      "text/plain": [
       "Index(['acct', 'yr', 'mailto', 'mail_addr_1', 'mail_addr_2', 'mail_city',\n",
       "       'mail_state', 'mail_zip', 'mail_country', 'undeliverable', 'str_pfx',\n",
       "       'str_num', 'str_num_sfx', 'str', 'str_sfx', 'str_sfx_dir', 'str_unit',\n",
       "       'site_addr_1', 'site_addr_2', 'site_addr_3', 'state_class',\n",
       "       'school_dist', 'map_facet', 'key_map', 'Neighborhood_Code',\n",
       "       'Neighborhood_Grp', 'Market_Area_1', 'Market_Area_1_Dscr',\n",
       "       'Market_Area_2', 'Market_Area_2_Dscr', 'econ_area', 'econ_bld_class',\n",
       "       'center_code', 'yr_impr', 'yr_annexed', 'splt_dt', 'dsc_cd', 'nxt_bld',\n",
       "       'bld_ar', 'land_ar', 'acreage', 'Cap_acct', 'shared_cad', 'land_val',\n",
       "       'bld_val', 'x_features_val', 'ag_val', 'assessed_val', 'tot_appr_val',\n",
       "       'tot_mkt_val', 'prior_land_val', 'prior_bld_val',\n",
       "       'prior_x_features_val', 'prior_ag_val', 'prior_tot_appr_val',\n",
       "       'prior_tot_mkt_val', 'new_construction_val', 'tot_rcn_val',\n",
       "       'value_status', 'noticed', 'notice_dt', 'protested', 'certified_date',\n",
       "       'rev_dt', 'rev_by', 'new_own_dt', 'lgl_1', 'lgl_2', 'lgl_3', 'lgl_4',\n",
       "       'jurs'],\n",
       "      dtype='object')"
      ]
     },
     "execution_count": 3,
     "metadata": {},
     "output_type": "execute_result"
    }
   ],
   "source": [
    "columns = real_acct_df.columns\n",
    "columns"
   ]
  },
  {
   "cell_type": "code",
   "execution_count": 4,
   "id": "194400cb",
   "metadata": {},
   "outputs": [],
   "source": [
    "# new_cols = ['acct', 'str_pfx', 'str_num',\n",
    "#        'str_num_sfx', 'str', 'str_sfx', 'str_sfx_dir', 'str_unit',\n",
    "#        'site_addr_1', 'site_addr_2', 'site_addr_3','bld_val', 'x_features_val', 'ag_val', \n",
    "#        'assessed_val', 'tot_appr_val',\n",
    "#        'tot_mkt_val', 'prior_land_val', 'prior_bld_val',\n",
    "#        'prior_x_features_val', 'prior_ag_val', 'prior_tot_appr_val',\n",
    "#        'prior_tot_mkt_val', 'new_construction_val', 'tot_rcn_val',\n",
    "#        'value_status', 'certified_date']"
   ]
  },
  {
   "cell_type": "code",
   "execution_count": 5,
   "id": "f529d6a7",
   "metadata": {},
   "outputs": [],
   "source": [
    "new_cols = ['acct','str_num','str_num_sfx','str','str_sfx','str_sfx_dir','str_unit','site_addr_1', 'site_addr_2',\n",
    "'site_addr_3','bld_ar','land_ar','tot_appr_val','tot_mkt_val']"
   ]
  },
  {
   "cell_type": "code",
   "execution_count": 6,
   "id": "d7f20d3b",
   "metadata": {},
   "outputs": [
    {
     "data": {
      "text/html": [
       "<div>\n",
       "<style scoped>\n",
       "    .dataframe tbody tr th:only-of-type {\n",
       "        vertical-align: middle;\n",
       "    }\n",
       "\n",
       "    .dataframe tbody tr th {\n",
       "        vertical-align: top;\n",
       "    }\n",
       "\n",
       "    .dataframe thead th {\n",
       "        text-align: right;\n",
       "    }\n",
       "</style>\n",
       "<table border=\"1\" class=\"dataframe\">\n",
       "  <thead>\n",
       "    <tr style=\"text-align: right;\">\n",
       "      <th></th>\n",
       "      <th>acct</th>\n",
       "      <th>str_num</th>\n",
       "      <th>str_num_sfx</th>\n",
       "      <th>str</th>\n",
       "      <th>str_sfx</th>\n",
       "      <th>str_sfx_dir</th>\n",
       "      <th>str_unit</th>\n",
       "      <th>site_addr_1</th>\n",
       "      <th>site_addr_2</th>\n",
       "      <th>site_addr_3</th>\n",
       "      <th>bld_ar</th>\n",
       "      <th>land_ar</th>\n",
       "      <th>tot_appr_val</th>\n",
       "      <th>tot_mkt_val</th>\n",
       "    </tr>\n",
       "  </thead>\n",
       "  <tbody>\n",
       "    <tr>\n",
       "      <th>0</th>\n",
       "      <td>\\n0010010000013</td>\n",
       "      <td>0.0</td>\n",
       "      <td></td>\n",
       "      <td>COMMERCE</td>\n",
       "      <td>ST</td>\n",
       "      <td></td>\n",
       "      <td></td>\n",
       "      <td>0 COMMERCE ST</td>\n",
       "      <td>HOUSTON</td>\n",
       "      <td>77002</td>\n",
       "      <td>0.0</td>\n",
       "      <td>44431.0</td>\n",
       "      <td>0.0</td>\n",
       "      <td>0.0</td>\n",
       "    </tr>\n",
       "    <tr>\n",
       "      <th>1</th>\n",
       "      <td>\\n0010020000001</td>\n",
       "      <td>907.0</td>\n",
       "      <td></td>\n",
       "      <td>COMMERCE</td>\n",
       "      <td>ST</td>\n",
       "      <td></td>\n",
       "      <td></td>\n",
       "      <td>907 COMMERCE ST</td>\n",
       "      <td>HOUSTON</td>\n",
       "      <td>77002</td>\n",
       "      <td>0.0</td>\n",
       "      <td>5001.0</td>\n",
       "      <td>309120.0</td>\n",
       "      <td>309120.0</td>\n",
       "    </tr>\n",
       "    <tr>\n",
       "      <th>2</th>\n",
       "      <td>\\n0010020000003</td>\n",
       "      <td>0.0</td>\n",
       "      <td></td>\n",
       "      <td>COMMERCE</td>\n",
       "      <td>ST</td>\n",
       "      <td></td>\n",
       "      <td></td>\n",
       "      <td>0 COMMERCE ST</td>\n",
       "      <td>HOUSTON</td>\n",
       "      <td>77002</td>\n",
       "      <td>0.0</td>\n",
       "      <td>18121.0</td>\n",
       "      <td>889398.0</td>\n",
       "      <td>889398.0</td>\n",
       "    </tr>\n",
       "    <tr>\n",
       "      <th>3</th>\n",
       "      <td>\\n0010020000004</td>\n",
       "      <td>0.0</td>\n",
       "      <td></td>\n",
       "      <td>COMMERCE</td>\n",
       "      <td>ST</td>\n",
       "      <td></td>\n",
       "      <td></td>\n",
       "      <td>0 COMMERCE ST</td>\n",
       "      <td>HOUSTON</td>\n",
       "      <td>77002</td>\n",
       "      <td>0.0</td>\n",
       "      <td>9061.0</td>\n",
       "      <td>444699.0</td>\n",
       "      <td>444699.0</td>\n",
       "    </tr>\n",
       "    <tr>\n",
       "      <th>4</th>\n",
       "      <td>\\n0010020000013</td>\n",
       "      <td>921.0</td>\n",
       "      <td></td>\n",
       "      <td>COMMERCE</td>\n",
       "      <td>ST</td>\n",
       "      <td></td>\n",
       "      <td></td>\n",
       "      <td>921 COMMERCE ST</td>\n",
       "      <td>HOUSTON</td>\n",
       "      <td>77002</td>\n",
       "      <td>0.0</td>\n",
       "      <td>3001.0</td>\n",
       "      <td>0.0</td>\n",
       "      <td>0.0</td>\n",
       "    </tr>\n",
       "  </tbody>\n",
       "</table>\n",
       "</div>"
      ],
      "text/plain": [
       "                          acct  str_num str_num_sfx       str str_sfx  \\\n",
       "0  \\n0010010000013                  0.0              COMMERCE      ST   \n",
       "1  \\n0010020000001                907.0              COMMERCE      ST   \n",
       "2  \\n0010020000003                  0.0              COMMERCE      ST   \n",
       "3  \\n0010020000004                  0.0              COMMERCE      ST   \n",
       "4  \\n0010020000013                921.0              COMMERCE      ST   \n",
       "\n",
       "  str_sfx_dir str_unit      site_addr_1 site_addr_2 site_addr_3  bld_ar  \\\n",
       "0                         0 COMMERCE ST     HOUSTON       77002     0.0   \n",
       "1                       907 COMMERCE ST     HOUSTON       77002     0.0   \n",
       "2                         0 COMMERCE ST     HOUSTON       77002     0.0   \n",
       "3                         0 COMMERCE ST     HOUSTON       77002     0.0   \n",
       "4                       921 COMMERCE ST     HOUSTON       77002     0.0   \n",
       "\n",
       "   land_ar  tot_appr_val  tot_mkt_val  \n",
       "0  44431.0           0.0          0.0  \n",
       "1   5001.0      309120.0     309120.0  \n",
       "2  18121.0      889398.0     889398.0  \n",
       "3   9061.0      444699.0     444699.0  \n",
       "4   3001.0           0.0          0.0  "
      ]
     },
     "execution_count": 6,
     "metadata": {},
     "output_type": "execute_result"
    }
   ],
   "source": [
    "# remove the columns that we don't need\n",
    "real_acct_df = real_acct_df[new_cols]\n",
    "real_acct_df.head()"
   ]
  },
  {
   "cell_type": "code",
   "execution_count": 7,
   "id": "b0bfd4a9",
   "metadata": {},
   "outputs": [],
   "source": [
    "# remove the \\n from the account column\n",
    "def clean(x):\n",
    "    x = x.replace('\\n','')\n",
    "    return x"
   ]
  },
  {
   "cell_type": "code",
   "execution_count": 8,
   "id": "3f104b78",
   "metadata": {},
   "outputs": [],
   "source": [
    "real_acct_df['acct'] = real_acct_df['acct'].apply(clean)"
   ]
  },
  {
   "cell_type": "code",
   "execution_count": 9,
   "id": "4efff5cb",
   "metadata": {},
   "outputs": [
    {
     "data": {
      "text/html": [
       "<div>\n",
       "<style scoped>\n",
       "    .dataframe tbody tr th:only-of-type {\n",
       "        vertical-align: middle;\n",
       "    }\n",
       "\n",
       "    .dataframe tbody tr th {\n",
       "        vertical-align: top;\n",
       "    }\n",
       "\n",
       "    .dataframe thead th {\n",
       "        text-align: right;\n",
       "    }\n",
       "</style>\n",
       "<table border=\"1\" class=\"dataframe\">\n",
       "  <thead>\n",
       "    <tr style=\"text-align: right;\">\n",
       "      <th></th>\n",
       "      <th>acct</th>\n",
       "      <th>str_num</th>\n",
       "      <th>str_num_sfx</th>\n",
       "      <th>str</th>\n",
       "      <th>str_sfx</th>\n",
       "      <th>str_sfx_dir</th>\n",
       "      <th>str_unit</th>\n",
       "      <th>site_addr_1</th>\n",
       "      <th>site_addr_2</th>\n",
       "      <th>site_addr_3</th>\n",
       "      <th>bld_ar</th>\n",
       "      <th>land_ar</th>\n",
       "      <th>tot_appr_val</th>\n",
       "      <th>tot_mkt_val</th>\n",
       "    </tr>\n",
       "  </thead>\n",
       "  <tbody>\n",
       "    <tr>\n",
       "      <th>0</th>\n",
       "      <td>0010010000013</td>\n",
       "      <td>0.0</td>\n",
       "      <td></td>\n",
       "      <td>COMMERCE</td>\n",
       "      <td>ST</td>\n",
       "      <td></td>\n",
       "      <td></td>\n",
       "      <td>0 COMMERCE ST</td>\n",
       "      <td>HOUSTON</td>\n",
       "      <td>77002</td>\n",
       "      <td>0.0</td>\n",
       "      <td>44431.0</td>\n",
       "      <td>0.0</td>\n",
       "      <td>0.0</td>\n",
       "    </tr>\n",
       "    <tr>\n",
       "      <th>1</th>\n",
       "      <td>0010020000001</td>\n",
       "      <td>907.0</td>\n",
       "      <td></td>\n",
       "      <td>COMMERCE</td>\n",
       "      <td>ST</td>\n",
       "      <td></td>\n",
       "      <td></td>\n",
       "      <td>907 COMMERCE ST</td>\n",
       "      <td>HOUSTON</td>\n",
       "      <td>77002</td>\n",
       "      <td>0.0</td>\n",
       "      <td>5001.0</td>\n",
       "      <td>309120.0</td>\n",
       "      <td>309120.0</td>\n",
       "    </tr>\n",
       "  </tbody>\n",
       "</table>\n",
       "</div>"
      ],
      "text/plain": [
       "                        acct  str_num str_num_sfx       str str_sfx  \\\n",
       "0  0010010000013                  0.0              COMMERCE      ST   \n",
       "1  0010020000001                907.0              COMMERCE      ST   \n",
       "\n",
       "  str_sfx_dir str_unit      site_addr_1 site_addr_2 site_addr_3  bld_ar  \\\n",
       "0                         0 COMMERCE ST     HOUSTON       77002     0.0   \n",
       "1                       907 COMMERCE ST     HOUSTON       77002     0.0   \n",
       "\n",
       "   land_ar  tot_appr_val  tot_mkt_val  \n",
       "0  44431.0           0.0          0.0  \n",
       "1   5001.0      309120.0     309120.0  "
      ]
     },
     "execution_count": 9,
     "metadata": {},
     "output_type": "execute_result"
    }
   ],
   "source": [
    "real_acct_df.head(2)"
   ]
  },
  {
   "cell_type": "code",
   "execution_count": 10,
   "id": "67092abe",
   "metadata": {},
   "outputs": [],
   "source": [
    "# load 5 million rows to local database\n",
    "engine = create_engine(f'postgresql://{DB_USER}:{DB_PASS}@{DB_HOST}:5432/Houston_real_estate')\n",
    "# load df to database\n",
    "real_acct_df.to_sql('real_acct',engine,index=False,if_exists='replace')"
   ]
  },
  {
   "cell_type": "code",
   "execution_count": 11,
   "id": "269ce063",
   "metadata": {},
   "outputs": [
    {
     "data": {
      "text/plain": [
       "acct             object\n",
       "str_num         float64\n",
       "str_num_sfx      object\n",
       "str              object\n",
       "str_sfx          object\n",
       "str_sfx_dir      object\n",
       "str_unit         object\n",
       "site_addr_1      object\n",
       "site_addr_2      object\n",
       "site_addr_3      object\n",
       "bld_ar          float64\n",
       "land_ar         float64\n",
       "tot_appr_val    float64\n",
       "tot_mkt_val     float64\n",
       "dtype: object"
      ]
     },
     "execution_count": 11,
     "metadata": {},
     "output_type": "execute_result"
    }
   ],
   "source": [
    "real_acct_df.dtypes"
   ]
  },
  {
   "cell_type": "markdown",
   "id": "01d8f386",
   "metadata": {},
   "source": [
    "## Start Stan's web scraping from HAR"
   ]
  },
  {
   "cell_type": "code",
   "execution_count": 12,
   "id": "b0467b52",
   "metadata": {},
   "outputs": [],
   "source": [
    "def fix_num(num):\n",
    "    return float(re.sub('[^0-9\\.]', \"\", num))\n",
    "\n",
    "def fix_num_int(num):\n",
    "    return int(re.sub('[^0-9\\.]', \"\", num))"
   ]
  },
  {
   "cell_type": "code",
   "execution_count": 26,
   "id": "36fb1f8a",
   "metadata": {},
   "outputs": [],
   "source": [
    "#read Haris county zip codes\n",
    "zip_code_data=pd.read_csv(\"harris_county_zip_codes.csv\")\n",
    "zip_code_list=list(zip_code_data['zip_code'].map(str))"
   ]
  },
  {
   "cell_type": "code",
   "execution_count": 27,
   "id": "f11e75d2",
   "metadata": {},
   "outputs": [
    {
     "name": "stderr",
     "output_type": "stream",
     "text": [
      "\n",
      "\n",
      "INFO:WDM:\n",
      "\n",
      "====== WebDriver manager ======\n",
      "INFO:WDM:====== WebDriver manager ======\n",
      "Current google-chrome version is 94.0.4606\n",
      "INFO:WDM:Current google-chrome version is 94.0.4606\n",
      "Get LATEST driver version for 94.0.4606\n",
      "INFO:WDM:Get LATEST driver version for 94.0.4606\n",
      "Driver [/Users/henrywycislo/.wdm/drivers/chromedriver/mac64/94.0.4606.61/chromedriver] found in cache\n",
      "INFO:WDM:Driver [/Users/henrywycislo/.wdm/drivers/chromedriver/mac64/94.0.4606.61/chromedriver] found in cache\n"
     ]
    }
   ],
   "source": [
    "#set up chrome browser\n",
    "executable_path = {'executable_path': ChromeDriverManager().install()}\n",
    "browser = Browser('chrome', **executable_path, headless=False)"
   ]
  },
  {
   "cell_type": "code",
   "execution_count": null,
   "id": "e49d7032",
   "metadata": {},
   "outputs": [
    {
     "name": "stdout",
     "output_type": "stream",
     "text": [
      "77002\n",
      "77003\n",
      "77004\n"
     ]
    }
   ],
   "source": [
    "#define empty dataframe to appand data to\n",
    "har_df = pd.DataFrame(columns = ['mls', 'address', 'bld_sft','lot_sft','price', 'zip'])\n",
    "#search patterns for building and land square footage\n",
    "bldgsft_pattern = re.compile(r'Building Sqft')\n",
    "lotsft_pattern = re.compile(r'Lot Sqft')\n",
    "\n",
    "#define a subroutine to extract data from house structure and append it to a dataframe\n",
    "def extract_from_house(house):\n",
    "    global har_df\n",
    "    asking_price=fix_num(house.find('div', class_=\"price\").text)\n",
    "    try:\n",
    "        bldg_sft=fix_num(house.find('div', class_=\"mp_features\").find(text=bldgsft_pattern).__dict__[\"previous_sibling\"].text)\n",
    "    except AttributeError:\n",
    "        bldg_sft=0\n",
    "    try:\n",
    "        lot_sft=fix_num(house.find('div', class_=\"mp_features\").find(text=lotsft_pattern).__dict__[\"previous_sibling\"].text)\n",
    "    except AttributeError:\n",
    "        lot_sft=0\n",
    "    addr=house.find('a', class_=\"address\").text\n",
    "    mls_no=fix_num_int(house.find('div', class_=\"mpi_mls\").text)\n",
    "    property_zip=current_zip\n",
    "    har_df = har_df.append({'mls' : mls_no, 'address' : addr, 'bld_sft' : bldg_sft, 'lot_sft': lot_sft, 'price': asking_price, 'zip': current_zip }, ignore_index = True)\n",
    "\n",
    "# cycle through all Harris county zip codes\n",
    "for current_zip in zip_code_list:\n",
    "    time.sleep(10)\n",
    "    print(current_zip)\n",
    "    #define starting url for current zip code\n",
    "    url=f'https://www.har.com/zipcode_{current_zip}/realestate/for_sale'\n",
    "    browser.visit(url)\n",
    "    html = browser.html\n",
    "    soup = bs(html, 'html.parser')\n",
    "    #Scrape the houses for the current search page\n",
    "    houses=soup.find_all('div', class_=\"prop_item\")\n",
    "        \n",
    "    for house in houses:\n",
    "        extract_from_house(house)\n",
    "\n",
    "    #figure out how many pages we will have to click through\n",
    "    navigation=soup.find_all('div', class_=\"pagination\")\n",
    "    number_of_pages=len(navigation[0].ul.find_all('li'))\n",
    "\n",
    "    #click through pages 2 through the last page \n",
    "    for i in range(2, number_of_pages+1):\n",
    "        nextlink=browser.links.find_by_text(str(i))\n",
    "        time.sleep(5)\n",
    "        #figure out ambiguity to what is the next search page link\n",
    "        if len(nextlink)==1:\n",
    "            nextlink.click()\n",
    "        else:\n",
    "            nextlink[1].click()\n",
    "        \n",
    "        #extract houses from the current page and append to a data frame\n",
    "        html = browser.html\n",
    "        soup = bs(html, 'html.parser')\n",
    "        houses=soup.find_all('div', class_=\"prop_item\")\n",
    "        for house in houses:\n",
    "            extract_from_house(house)\n",
    "            \n",
    "#save scraped results for later use            \n",
    "har_df.to_csv('har_data.csv',index=False)"
   ]
  },
  {
   "cell_type": "code",
   "execution_count": 14,
   "id": "1a10b94d",
   "metadata": {},
   "outputs": [],
   "source": [
    "current_zip='77401'\n",
    "bldgsft_pattern = re.compile(r'Building Sqft')\n",
    "lotsft_pattern = re.compile(r'Lot Sqft')\n",
    "for house in houses:\n",
    "    asking_price=fix_num(house.find('div', class_=\"price\").text)\n",
    "    bldg_sft=fix_num(house.find('div', class_=\"mp_features\").find(text=bldgsft_pattern).__dict__[\"previous_sibling\"].text)\n",
    "    lot_sft=fix_num(house.find('div', class_=\"mp_features\").find(text=lotsft_pattern).__dict__[\"previous_sibling\"].text)\n",
    "    addr=house.find('a', class_=\"address\").text\n",
    "    mls_no=fix_num_int(house.find('div', class_=\"mpi_mls\").text)\n",
    "    property_zip=current_zip\n",
    "    har_df = har_df.append({'mls' : mls_no, 'address' : addr, 'bld_sft' : bldg_sft, 'lot_sft': lot_sft, 'price': asking_price, 'zip': current_zip }, ignore_index = True)\n",
    "    "
   ]
  },
  {
   "cell_type": "code",
   "execution_count": 15,
   "id": "d6b29b87",
   "metadata": {},
   "outputs": [
    {
     "data": {
      "text/html": [
       "<div>\n",
       "<style scoped>\n",
       "    .dataframe tbody tr th:only-of-type {\n",
       "        vertical-align: middle;\n",
       "    }\n",
       "\n",
       "    .dataframe tbody tr th {\n",
       "        vertical-align: top;\n",
       "    }\n",
       "\n",
       "    .dataframe thead th {\n",
       "        text-align: right;\n",
       "    }\n",
       "</style>\n",
       "<table border=\"1\" class=\"dataframe\">\n",
       "  <thead>\n",
       "    <tr style=\"text-align: right;\">\n",
       "      <th></th>\n",
       "      <th>mls</th>\n",
       "      <th>address</th>\n",
       "      <th>bld_sft</th>\n",
       "      <th>lot_sft</th>\n",
       "      <th>price</th>\n",
       "      <th>zip</th>\n",
       "    </tr>\n",
       "  </thead>\n",
       "  <tbody>\n",
       "    <tr>\n",
       "      <th>0</th>\n",
       "      <td>62981339</td>\n",
       "      <td>5318 Valerie Street, Bellaire, TX 77401</td>\n",
       "      <td>5497.0</td>\n",
       "      <td>20475.0</td>\n",
       "      <td>3900000.0</td>\n",
       "      <td>77401</td>\n",
       "    </tr>\n",
       "    <tr>\n",
       "      <th>1</th>\n",
       "      <td>82184508</td>\n",
       "      <td>220 Mulberry Lane, Bellaire, TX 77401</td>\n",
       "      <td>5869.0</td>\n",
       "      <td>34800.0</td>\n",
       "      <td>2550000.0</td>\n",
       "      <td>77401</td>\n",
       "    </tr>\n",
       "    <tr>\n",
       "      <th>2</th>\n",
       "      <td>11743323</td>\n",
       "      <td>5301 Pine Street, Bellaire, TX 77401</td>\n",
       "      <td>6508.0</td>\n",
       "      <td>18900.0</td>\n",
       "      <td>2199000.0</td>\n",
       "      <td>77401</td>\n",
       "    </tr>\n",
       "    <tr>\n",
       "      <th>3</th>\n",
       "      <td>27145525</td>\n",
       "      <td>4913 Elm Street, Bellaire, TX 77401</td>\n",
       "      <td>5367.0</td>\n",
       "      <td>12628.0</td>\n",
       "      <td>1995000.0</td>\n",
       "      <td>77401</td>\n",
       "    </tr>\n",
       "    <tr>\n",
       "      <th>4</th>\n",
       "      <td>41138611</td>\n",
       "      <td>502 Chelsea Street, Bellaire, TX 77401</td>\n",
       "      <td>5403.0</td>\n",
       "      <td>9150.0</td>\n",
       "      <td>1995000.0</td>\n",
       "      <td>77401</td>\n",
       "    </tr>\n",
       "    <tr>\n",
       "      <th>5</th>\n",
       "      <td>49358906</td>\n",
       "      <td>5308 Braeburn Drive, Bellaire, TX 77401</td>\n",
       "      <td>5659.0</td>\n",
       "      <td>20475.0</td>\n",
       "      <td>1950000.0</td>\n",
       "      <td>77401</td>\n",
       "    </tr>\n",
       "    <tr>\n",
       "      <th>6</th>\n",
       "      <td>35679760</td>\n",
       "      <td>4900 Wedgewood Drive, Bellaire, TX 77401</td>\n",
       "      <td>5397.0</td>\n",
       "      <td>8750.0</td>\n",
       "      <td>1947000.0</td>\n",
       "      <td>77401</td>\n",
       "    </tr>\n",
       "    <tr>\n",
       "      <th>7</th>\n",
       "      <td>32194385</td>\n",
       "      <td>4570 Elm Street, Bellaire, TX 77401</td>\n",
       "      <td>5318.0</td>\n",
       "      <td>8775.0</td>\n",
       "      <td>1899000.0</td>\n",
       "      <td>77401</td>\n",
       "    </tr>\n",
       "    <tr>\n",
       "      <th>8</th>\n",
       "      <td>3203955</td>\n",
       "      <td>4819 Saxon Street, Bellaire, TX 77401</td>\n",
       "      <td>5806.0</td>\n",
       "      <td>9100.0</td>\n",
       "      <td>1875000.0</td>\n",
       "      <td>77401</td>\n",
       "    </tr>\n",
       "    <tr>\n",
       "      <th>9</th>\n",
       "      <td>87167029</td>\n",
       "      <td>112 Marrakech Court, Bellaire, TX 77401</td>\n",
       "      <td>5140.0</td>\n",
       "      <td>7440.0</td>\n",
       "      <td>1845000.0</td>\n",
       "      <td>77401</td>\n",
       "    </tr>\n",
       "    <tr>\n",
       "      <th>10</th>\n",
       "      <td>29596116</td>\n",
       "      <td>4530 Holt Street, Bellaire, TX 77401</td>\n",
       "      <td>5565.0</td>\n",
       "      <td>9004.0</td>\n",
       "      <td>1795000.0</td>\n",
       "      <td>77401</td>\n",
       "    </tr>\n",
       "    <tr>\n",
       "      <th>11</th>\n",
       "      <td>90621570</td>\n",
       "      <td>526 S 3rd Street, Bellaire, TX 77401</td>\n",
       "      <td>6133.0</td>\n",
       "      <td>10500.0</td>\n",
       "      <td>1760000.0</td>\n",
       "      <td>77401</td>\n",
       "    </tr>\n",
       "  </tbody>\n",
       "</table>\n",
       "</div>"
      ],
      "text/plain": [
       "         mls                                   address  bld_sft  lot_sft  \\\n",
       "0   62981339   5318 Valerie Street, Bellaire, TX 77401   5497.0  20475.0   \n",
       "1   82184508     220 Mulberry Lane, Bellaire, TX 77401   5869.0  34800.0   \n",
       "2   11743323      5301 Pine Street, Bellaire, TX 77401   6508.0  18900.0   \n",
       "3   27145525       4913 Elm Street, Bellaire, TX 77401   5367.0  12628.0   \n",
       "4   41138611    502 Chelsea Street, Bellaire, TX 77401   5403.0   9150.0   \n",
       "5   49358906   5308 Braeburn Drive, Bellaire, TX 77401   5659.0  20475.0   \n",
       "6   35679760  4900 Wedgewood Drive, Bellaire, TX 77401   5397.0   8750.0   \n",
       "7   32194385       4570 Elm Street, Bellaire, TX 77401   5318.0   8775.0   \n",
       "8    3203955     4819 Saxon Street, Bellaire, TX 77401   5806.0   9100.0   \n",
       "9   87167029   112 Marrakech Court, Bellaire, TX 77401   5140.0   7440.0   \n",
       "10  29596116      4530 Holt Street, Bellaire, TX 77401   5565.0   9004.0   \n",
       "11  90621570      526 S 3rd Street, Bellaire, TX 77401   6133.0  10500.0   \n",
       "\n",
       "        price    zip  \n",
       "0   3900000.0  77401  \n",
       "1   2550000.0  77401  \n",
       "2   2199000.0  77401  \n",
       "3   1995000.0  77401  \n",
       "4   1995000.0  77401  \n",
       "5   1950000.0  77401  \n",
       "6   1947000.0  77401  \n",
       "7   1899000.0  77401  \n",
       "8   1875000.0  77401  \n",
       "9   1845000.0  77401  \n",
       "10  1795000.0  77401  \n",
       "11  1760000.0  77401  "
      ]
     },
     "execution_count": 15,
     "metadata": {},
     "output_type": "execute_result"
    }
   ],
   "source": [
    "har_df"
   ]
  },
  {
   "cell_type": "code",
   "execution_count": 16,
   "id": "6e00afbf",
   "metadata": {},
   "outputs": [],
   "source": [
    "# load to postgre\n",
    "har_df.to_sql('har',engine,index=False,if_exists='replace')"
   ]
  },
  {
   "cell_type": "code",
   "execution_count": 25,
   "id": "b42e8b03",
   "metadata": {},
   "outputs": [
    {
     "data": {
      "text/plain": [
       "<sqlalchemy.engine.cursor.LegacyCursorResult at 0x7fde934064a8>"
      ]
     },
     "execution_count": 25,
     "metadata": {},
     "output_type": "execute_result"
    }
   ],
   "source": [
    "# need to parse har address into multiple columns for future query against hcad\n",
    "engine.execute('''\n",
    "drop table if exists har2;\n",
    "create table har2 as select mls, cast(substring(address,1,position(' ' in address)-1) as integer) as str_num ,\n",
    "substring(address, position(' ' in address),position(',' in address) - position(' ' in address )) as street_name,\n",
    "split_part(address, ',',2) as city from har;\n",
    "''')"
   ]
  },
  {
   "cell_type": "code",
   "execution_count": 23,
   "id": "8ec53520",
   "metadata": {},
   "outputs": [
    {
     "data": {
      "text/plain": [
       "<sqlalchemy.engine.cursor.LegacyCursorResult at 0x7fde93406128>"
      ]
     },
     "execution_count": 23,
     "metadata": {},
     "output_type": "execute_result"
    }
   ],
   "source": [
    "engine.execute('''\n",
    "alter table har\n",
    "add column house_number integer,\n",
    "add column str_sfx text,\n",
    "add column city text;\n",
    "''')"
   ]
  },
  {
   "cell_type": "code",
   "execution_count": 24,
   "id": "995bf68b",
   "metadata": {},
   "outputs": [
    {
     "data": {
      "text/plain": [
       "<sqlalchemy.engine.cursor.LegacyCursorResult at 0x7fde93406320>"
      ]
     },
     "execution_count": 24,
     "metadata": {},
     "output_type": "execute_result"
    }
   ],
   "source": [
    "engine.execute('''\n",
    "update har\n",
    "set house_number = har2.str_num,\n",
    "str_sfx=har2.street_name,\n",
    "city=har2.city\n",
    "from har2\n",
    "where har.mls = har2.mls;\n",
    "''')"
   ]
  },
  {
   "cell_type": "code",
   "execution_count": null,
   "id": "a70ef969",
   "metadata": {},
   "outputs": [],
   "source": [
    "# end session and close the browser\n",
    "browser.quit()"
   ]
  }
 ],
 "metadata": {
  "kernelspec": {
   "display_name": "Python [conda env:PythonData] *",
   "language": "python",
   "name": "conda-env-PythonData-py"
  },
  "language_info": {
   "codemirror_mode": {
    "name": "ipython",
    "version": 3
   },
   "file_extension": ".py",
   "mimetype": "text/x-python",
   "name": "python",
   "nbconvert_exporter": "python",
   "pygments_lexer": "ipython3",
   "version": "3.6.13"
  }
 },
 "nbformat": 4,
 "nbformat_minor": 5
}
